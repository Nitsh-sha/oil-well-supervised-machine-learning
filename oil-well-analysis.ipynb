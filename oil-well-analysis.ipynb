{
 "cells": [
  {
   "cell_type": "markdown",
   "id": "b5b90f24",
   "metadata": {},
   "source": [
    "# Oil Well Analysis\n",
    "## Introduction\n",
    "In the oil industry, deciding where to drill new wells is a major investment decision that can have huge financial implications. The goal is to maximize profit by choosing locations with the highest potential oil reserves, while also minimizing risk. However, this is a complex task that requires careful analysis and consideration of various factors.\n",
    "\n",
    "In this project, we are working for an oil company, OilyGiant, to help them decide on the best region for drilling new wells. We have data on oil samples from three regions, and we know the parameters of each oil well in these regions. Using this data, our task is to build a model that predicts the volume of reserves in new wells, and then use this model to pick the oil wells with the highest estimated values.\n",
    "\n",
    "We will also calculate the profit for each selected oil well, and ultimately, pick the region with the highest total profit. Furthermore, we will perform a risk analysis using the Bootstrapping technique to ensure that the risk of losses is lower than 2.5%.\n",
    "\n",
    "By the end of this project, we aim to provide a recommendation on the best region for the development of new oil wells based on potential profit and risk of losses.\n"
   ]
  },
  {
   "cell_type": "markdown",
   "id": "03787c54",
   "metadata": {},
   "source": [
    "## Data preparation and processing"
   ]
  },
  {
   "cell_type": "code",
   "execution_count": 1,
   "id": "252ecc16",
   "metadata": {},
   "outputs": [],
   "source": [
    "# load the necessary libraries for this project\n",
    "import pandas as pd\n",
    "import numpy as np\n",
    "from sklearn.model_selection import train_test_split\n",
    "from sklearn.linear_model import LinearRegression\n",
    "from sklearn.metrics import mean_squared_error\n",
    "from numpy.random import RandomState\n",
    "import scipy.stats as st\n",
    "\n",
    "# set a random seed for reproducibility\n",
    "np.random.seed(12345)"
   ]
  },
  {
   "cell_type": "markdown",
   "id": "9b3c37ac",
   "metadata": {},
   "source": [
    "The required Python libraries have been successfully imported. We're now ready to proceed to the next step."
   ]
  },
  {
   "cell_type": "code",
   "execution_count": 3,
   "id": "048088d2",
   "metadata": {},
   "outputs": [
    {
     "data": {
      "text/html": [
       "<div>\n",
       "<style scoped>\n",
       "    .dataframe tbody tr th:only-of-type {\n",
       "        vertical-align: middle;\n",
       "    }\n",
       "\n",
       "    .dataframe tbody tr th {\n",
       "        vertical-align: top;\n",
       "    }\n",
       "\n",
       "    .dataframe thead th {\n",
       "        text-align: right;\n",
       "    }\n",
       "</style>\n",
       "<table border=\"1\" class=\"dataframe\">\n",
       "  <thead>\n",
       "    <tr style=\"text-align: right;\">\n",
       "      <th></th>\n",
       "      <th>id</th>\n",
       "      <th>f0</th>\n",
       "      <th>f1</th>\n",
       "      <th>f2</th>\n",
       "      <th>product</th>\n",
       "    </tr>\n",
       "  </thead>\n",
       "  <tbody>\n",
       "    <tr>\n",
       "      <th>0</th>\n",
       "      <td>txEyH</td>\n",
       "      <td>0.705745</td>\n",
       "      <td>-0.497823</td>\n",
       "      <td>1.221170</td>\n",
       "      <td>105.280062</td>\n",
       "    </tr>\n",
       "    <tr>\n",
       "      <th>1</th>\n",
       "      <td>2acmU</td>\n",
       "      <td>1.334711</td>\n",
       "      <td>-0.340164</td>\n",
       "      <td>4.365080</td>\n",
       "      <td>73.037750</td>\n",
       "    </tr>\n",
       "    <tr>\n",
       "      <th>2</th>\n",
       "      <td>409Wp</td>\n",
       "      <td>1.022732</td>\n",
       "      <td>0.151990</td>\n",
       "      <td>1.419926</td>\n",
       "      <td>85.265647</td>\n",
       "    </tr>\n",
       "    <tr>\n",
       "      <th>3</th>\n",
       "      <td>iJLyR</td>\n",
       "      <td>-0.032172</td>\n",
       "      <td>0.139033</td>\n",
       "      <td>2.978566</td>\n",
       "      <td>168.620776</td>\n",
       "    </tr>\n",
       "    <tr>\n",
       "      <th>4</th>\n",
       "      <td>Xdl7t</td>\n",
       "      <td>1.988431</td>\n",
       "      <td>0.155413</td>\n",
       "      <td>4.751769</td>\n",
       "      <td>154.036647</td>\n",
       "    </tr>\n",
       "  </tbody>\n",
       "</table>\n",
       "</div>"
      ],
      "text/plain": [
       "      id        f0        f1        f2     product\n",
       "0  txEyH  0.705745 -0.497823  1.221170  105.280062\n",
       "1  2acmU  1.334711 -0.340164  4.365080   73.037750\n",
       "2  409Wp  1.022732  0.151990  1.419926   85.265647\n",
       "3  iJLyR -0.032172  0.139033  2.978566  168.620776\n",
       "4  Xdl7t  1.988431  0.155413  4.751769  154.036647"
      ]
     },
     "execution_count": 3,
     "metadata": {},
     "output_type": "execute_result"
    }
   ],
   "source": [
    "# load the first dataset\n",
    "geo_data_0 = pd.read_csv('geo_data_0.csv')\n",
    "geo_data_0.head()"
   ]
  },
  {
   "cell_type": "markdown",
   "id": "77fd541d",
   "metadata": {},
   "source": [
    "The dataset contains 5 columns: 'id', 'f0', 'f1', 'f2', and 'product'.\n",
    "\n",
    "'id' is the unique identifier for each oil well.\n",
    "'f0', 'f1', and 'f2' are features of the oil wells. Their specific meanings are not provided, but they are significant for our analysis.\n",
    "'product' is the volume of reserves in the oil well (in thousand barrels)."
   ]
  },
  {
   "cell_type": "code",
   "execution_count": 5,
   "id": "993a6956",
   "metadata": {},
   "outputs": [
    {
     "data": {
      "text/html": [
       "<div>\n",
       "<style scoped>\n",
       "    .dataframe tbody tr th:only-of-type {\n",
       "        vertical-align: middle;\n",
       "    }\n",
       "\n",
       "    .dataframe tbody tr th {\n",
       "        vertical-align: top;\n",
       "    }\n",
       "\n",
       "    .dataframe thead th {\n",
       "        text-align: right;\n",
       "    }\n",
       "</style>\n",
       "<table border=\"1\" class=\"dataframe\">\n",
       "  <thead>\n",
       "    <tr style=\"text-align: right;\">\n",
       "      <th></th>\n",
       "      <th>id</th>\n",
       "      <th>f0</th>\n",
       "      <th>f1</th>\n",
       "      <th>f2</th>\n",
       "      <th>product</th>\n",
       "    </tr>\n",
       "  </thead>\n",
       "  <tbody>\n",
       "    <tr>\n",
       "      <th>0</th>\n",
       "      <td>kBEdx</td>\n",
       "      <td>-15.001348</td>\n",
       "      <td>-8.276000</td>\n",
       "      <td>-0.005876</td>\n",
       "      <td>3.179103</td>\n",
       "    </tr>\n",
       "    <tr>\n",
       "      <th>1</th>\n",
       "      <td>62mP7</td>\n",
       "      <td>14.272088</td>\n",
       "      <td>-3.475083</td>\n",
       "      <td>0.999183</td>\n",
       "      <td>26.953261</td>\n",
       "    </tr>\n",
       "    <tr>\n",
       "      <th>2</th>\n",
       "      <td>vyE1P</td>\n",
       "      <td>6.263187</td>\n",
       "      <td>-5.948386</td>\n",
       "      <td>5.001160</td>\n",
       "      <td>134.766305</td>\n",
       "    </tr>\n",
       "    <tr>\n",
       "      <th>3</th>\n",
       "      <td>KcrkZ</td>\n",
       "      <td>-13.081196</td>\n",
       "      <td>-11.506057</td>\n",
       "      <td>4.999415</td>\n",
       "      <td>137.945408</td>\n",
       "    </tr>\n",
       "    <tr>\n",
       "      <th>4</th>\n",
       "      <td>AHL4O</td>\n",
       "      <td>12.702195</td>\n",
       "      <td>-8.147433</td>\n",
       "      <td>5.004363</td>\n",
       "      <td>134.766305</td>\n",
       "    </tr>\n",
       "  </tbody>\n",
       "</table>\n",
       "</div>"
      ],
      "text/plain": [
       "      id         f0         f1        f2     product\n",
       "0  kBEdx -15.001348  -8.276000 -0.005876    3.179103\n",
       "1  62mP7  14.272088  -3.475083  0.999183   26.953261\n",
       "2  vyE1P   6.263187  -5.948386  5.001160  134.766305\n",
       "3  KcrkZ -13.081196 -11.506057  4.999415  137.945408\n",
       "4  AHL4O  12.702195  -8.147433  5.004363  134.766305"
      ]
     },
     "execution_count": 5,
     "metadata": {},
     "output_type": "execute_result"
    }
   ],
   "source": [
    "# load the second dataset\n",
    "geo_data_1 = pd.read_csv('geo_data_1.csv')\n",
    "geo_data_1.head()"
   ]
  },
  {
   "cell_type": "markdown",
   "id": "35e40e91",
   "metadata": {},
   "source": [
    "The second dataset has been loaded successfully. The structure of this dataset is similar to the first one, with 'id', 'f0', 'f1', 'f2', and 'product' as the columns."
   ]
  },
  {
   "cell_type": "code",
   "execution_count": 7,
   "id": "954436c7",
   "metadata": {},
   "outputs": [
    {
     "data": {
      "text/html": [
       "<div>\n",
       "<style scoped>\n",
       "    .dataframe tbody tr th:only-of-type {\n",
       "        vertical-align: middle;\n",
       "    }\n",
       "\n",
       "    .dataframe tbody tr th {\n",
       "        vertical-align: top;\n",
       "    }\n",
       "\n",
       "    .dataframe thead th {\n",
       "        text-align: right;\n",
       "    }\n",
       "</style>\n",
       "<table border=\"1\" class=\"dataframe\">\n",
       "  <thead>\n",
       "    <tr style=\"text-align: right;\">\n",
       "      <th></th>\n",
       "      <th>id</th>\n",
       "      <th>f0</th>\n",
       "      <th>f1</th>\n",
       "      <th>f2</th>\n",
       "      <th>product</th>\n",
       "    </tr>\n",
       "  </thead>\n",
       "  <tbody>\n",
       "    <tr>\n",
       "      <th>0</th>\n",
       "      <td>fwXo0</td>\n",
       "      <td>-1.146987</td>\n",
       "      <td>0.963328</td>\n",
       "      <td>-0.828965</td>\n",
       "      <td>27.758673</td>\n",
       "    </tr>\n",
       "    <tr>\n",
       "      <th>1</th>\n",
       "      <td>WJtFt</td>\n",
       "      <td>0.262778</td>\n",
       "      <td>0.269839</td>\n",
       "      <td>-2.530187</td>\n",
       "      <td>56.069697</td>\n",
       "    </tr>\n",
       "    <tr>\n",
       "      <th>2</th>\n",
       "      <td>ovLUW</td>\n",
       "      <td>0.194587</td>\n",
       "      <td>0.289035</td>\n",
       "      <td>-5.586433</td>\n",
       "      <td>62.871910</td>\n",
       "    </tr>\n",
       "    <tr>\n",
       "      <th>3</th>\n",
       "      <td>q6cA6</td>\n",
       "      <td>2.236060</td>\n",
       "      <td>-0.553760</td>\n",
       "      <td>0.930038</td>\n",
       "      <td>114.572842</td>\n",
       "    </tr>\n",
       "    <tr>\n",
       "      <th>4</th>\n",
       "      <td>WPMUX</td>\n",
       "      <td>-0.515993</td>\n",
       "      <td>1.716266</td>\n",
       "      <td>5.899011</td>\n",
       "      <td>149.600746</td>\n",
       "    </tr>\n",
       "  </tbody>\n",
       "</table>\n",
       "</div>"
      ],
      "text/plain": [
       "      id        f0        f1        f2     product\n",
       "0  fwXo0 -1.146987  0.963328 -0.828965   27.758673\n",
       "1  WJtFt  0.262778  0.269839 -2.530187   56.069697\n",
       "2  ovLUW  0.194587  0.289035 -5.586433   62.871910\n",
       "3  q6cA6  2.236060 -0.553760  0.930038  114.572842\n",
       "4  WPMUX -0.515993  1.716266  5.899011  149.600746"
      ]
     },
     "execution_count": 7,
     "metadata": {},
     "output_type": "execute_result"
    }
   ],
   "source": [
    "# load the third dataset\n",
    "geo_data_2 = pd.read_csv('geo_data_2.csv')\n",
    "geo_data_2.head()"
   ]
  },
  {
   "cell_type": "markdown",
   "id": "27ef0adb",
   "metadata": {},
   "source": [
    "The third dataset has been loaded successfully. It has the same structure as the previous two datasets, with 'id', 'f0', 'f1', 'f2', and 'product' as the columns.\n",
    "\n",
    "Now that all three datasets are loaded, let's proceed with the data preparation. We'll check for missing values, duplicate data, and correct data types."
   ]
  },
  {
   "cell_type": "code",
   "execution_count": 8,
   "id": "04d8c627",
   "metadata": {},
   "outputs": [
    {
     "name": "stdout",
     "output_type": "stream",
     "text": [
      "<class 'pandas.core.frame.DataFrame'>\n",
      "RangeIndex: 100000 entries, 0 to 99999\n",
      "Data columns (total 5 columns):\n",
      " #   Column   Non-Null Count   Dtype  \n",
      "---  ------   --------------   -----  \n",
      " 0   id       100000 non-null  object \n",
      " 1   f0       100000 non-null  float64\n",
      " 2   f1       100000 non-null  float64\n",
      " 3   f2       100000 non-null  float64\n",
      " 4   product  100000 non-null  float64\n",
      "dtypes: float64(4), object(1)\n",
      "memory usage: 3.8+ MB\n"
     ]
    }
   ],
   "source": [
    "# check the first dataset for missing values and data types\n",
    "geo_data_0.info()"
   ]
  },
  {
   "cell_type": "code",
   "execution_count": 10,
   "id": "c1afb57d",
   "metadata": {},
   "outputs": [
    {
     "name": "stdout",
     "output_type": "stream",
     "text": [
      "<class 'pandas.core.frame.DataFrame'>\n",
      "RangeIndex: 100000 entries, 0 to 99999\n",
      "Data columns (total 5 columns):\n",
      " #   Column   Non-Null Count   Dtype  \n",
      "---  ------   --------------   -----  \n",
      " 0   id       100000 non-null  object \n",
      " 1   f0       100000 non-null  float64\n",
      " 2   f1       100000 non-null  float64\n",
      " 3   f2       100000 non-null  float64\n",
      " 4   product  100000 non-null  float64\n",
      "dtypes: float64(4), object(1)\n",
      "memory usage: 3.8+ MB\n"
     ]
    }
   ],
   "source": [
    "# check the second dataset for missing values and data types\n",
    "geo_data_1.info()"
   ]
  },
  {
   "cell_type": "code",
   "execution_count": 11,
   "id": "f61cf080",
   "metadata": {},
   "outputs": [
    {
     "name": "stdout",
     "output_type": "stream",
     "text": [
      "<class 'pandas.core.frame.DataFrame'>\n",
      "RangeIndex: 100000 entries, 0 to 99999\n",
      "Data columns (total 5 columns):\n",
      " #   Column   Non-Null Count   Dtype  \n",
      "---  ------   --------------   -----  \n",
      " 0   id       100000 non-null  object \n",
      " 1   f0       100000 non-null  float64\n",
      " 2   f1       100000 non-null  float64\n",
      " 3   f2       100000 non-null  float64\n",
      " 4   product  100000 non-null  float64\n",
      "dtypes: float64(4), object(1)\n",
      "memory usage: 3.8+ MB\n"
     ]
    }
   ],
   "source": [
    "# check the third dataset for missing values and data types\n",
    "geo_data_2.info()"
   ]
  },
  {
   "cell_type": "markdown",
   "id": "7b611632",
   "metadata": {},
   "source": [
    "The data in all three datasets seems to be clean, with no missing values. The data types for all columns are also as expected: object (string) type for the 'id' and float type for the 'f0', 'f1', 'f2', and 'product' columns.\n",
    "\n",
    "Now, let's check if there are any duplicate entries in the datasets. This is an important step as duplicate entries can affect the performance of the model."
   ]
  },
  {
   "cell_type": "code",
   "execution_count": 12,
   "id": "d7e260fc",
   "metadata": {},
   "outputs": [
    {
     "data": {
      "text/plain": [
       "0"
      ]
     },
     "execution_count": 12,
     "metadata": {},
     "output_type": "execute_result"
    }
   ],
   "source": [
    "# Check for duplicate rows in the first dataset\n",
    "geo_data_0.duplicated().sum()"
   ]
  },
  {
   "cell_type": "code",
   "execution_count": 13,
   "id": "964bfb43",
   "metadata": {},
   "outputs": [
    {
     "data": {
      "text/plain": [
       "0"
      ]
     },
     "execution_count": 13,
     "metadata": {},
     "output_type": "execute_result"
    }
   ],
   "source": [
    "# Check for duplicate rows in the second dataset\n",
    "geo_data_1.duplicated().sum()"
   ]
  },
  {
   "cell_type": "code",
   "execution_count": 14,
   "id": "f16d7308",
   "metadata": {},
   "outputs": [
    {
     "data": {
      "text/plain": [
       "0"
      ]
     },
     "execution_count": 14,
     "metadata": {},
     "output_type": "execute_result"
    }
   ],
   "source": [
    "# Check for duplicate rows in the third dataset\n",
    "geo_data_2.duplicated().sum()"
   ]
  },
  {
   "cell_type": "markdown",
   "id": "73b1f01c",
   "metadata": {},
   "source": [
    "There are no duplicate entries in any of the three datasets. This is great because it means we don't need to do any further data cleaning. We're now ready to move on to the next step, which is model training and testing."
   ]
  },
  {
   "cell_type": "markdown",
   "id": "ec4a16ee",
   "metadata": {},
   "source": [
    "## Model training and testing\n",
    "We will:\n",
    "\n",
    "1. Split the data into a training set and validation set at a ratio of 75:25.\n",
    "2. Train the model and make predictions for the validation set.\n",
    "3. Save the predictions and correct answers for the validation set.\n",
    "4. Print the average volume of predicted reserves and model RMSE.\n",
    "5. Analyze the results."
   ]
  },
  {
   "cell_type": "code",
   "execution_count": 15,
   "id": "69f4681d",
   "metadata": {},
   "outputs": [],
   "source": [
    "# Define a function to split the data, train a linear regression model, and return the model, predictions, and correct answers\n",
    "\n",
    "def train_and_predict(data):\n",
    "    # Split the features and target variables\n",
    "    X = data.drop(['id', 'product'], axis=1)\n",
    "    y = data['product']\n",
    "\n",
    "    # Split the data into train and test sets\n",
    "    X_train, X_valid, y_train, y_valid = train_test_split(X, y, test_size=0.25, random_state=12345)\n",
    "\n",
    "    # Initialize the model\n",
    "    model = LinearRegression()\n",
    "\n",
    "    # Train the model\n",
    "    model.fit(X_train, y_train)\n",
    "\n",
    "    # Make predictions\n",
    "    predictions = model.predict(X_valid)\n",
    "\n",
    "    # Return the model, predictions, and correct answers\n",
    "    return model, predictions, y_valid\n",
    "\n",
    "# Train and predict for each dataset\n",
    "model_0, predictions_0, y_valid_0 = train_and_predict(geo_data_0)\n",
    "model_1, predictions_1, y_valid_1 = train_and_predict(geo_data_1)\n",
    "model_2, predictions_2, y_valid_2 = train_and_predict(geo_data_2)\n"
   ]
  },
  {
   "cell_type": "code",
   "execution_count": 16,
   "id": "95465749",
   "metadata": {},
   "outputs": [
    {
     "name": "stdout",
     "output_type": "stream",
     "text": [
      "Region 0:\n",
      "Average volume of predicted reserves: 92.59256778438038\n",
      "RMSE: 37.5794217150813\n",
      "\n",
      "Region 1:\n",
      "Average volume of predicted reserves: 68.728546895446\n",
      "RMSE: 0.8930992867756165\n",
      "\n",
      "Region 2:\n",
      "Average volume of predicted reserves: 94.96504596800492\n",
      "RMSE: 40.02970873393434\n",
      "\n"
     ]
    }
   ],
   "source": [
    "# Print the average volume of predicted reserves and model RMSE for each region\n",
    "\n",
    "# Define a function to calculate RMSE\n",
    "def calculate_rmse(y_true, y_pred):\n",
    "    return np.sqrt(mean_squared_error(y_true, y_pred))\n",
    "\n",
    "# Calculate and print the average volume of predicted reserves and RMSE for each region\n",
    "for i, (predictions, y_valid) in enumerate([(predictions_0, y_valid_0), (predictions_1, y_valid_1), (predictions_2, y_valid_2)], start=0):\n",
    "    print(f\"Region {i}:\")\n",
    "    print(f\"Average volume of predicted reserves: {predictions.mean()}\")\n",
    "    print(f\"RMSE: {calculate_rmse(y_valid, predictions)}\\n\")"
   ]
  },
  {
   "cell_type": "markdown",
   "id": "801f94ff",
   "metadata": {},
   "source": [
    "Here are the average volumes of predicted reserves and the Root Mean Square Error (RMSE) for each region:\n",
    "\n",
    "- Region 0: The average volume of predicted reserves is approximately 92.59 thousand barrels. The model's RMSE is approximately 37.58.\n",
    "- Region 1: The average volume of predicted reserves is approximately 68.73 thousand barrels. The model's RMSE is approximately 0.89.\n",
    "- Region 2: The average volume of predicted reserves is approximately 94.97 thousand barrels. The model's RMSE is approximately 40.03.\n",
    "\n",
    "The RMSE values show how accurately the model is able to predict the volume of reserves. The lower the RMSE, the better the model's performance. From the results, the model performs best in Region 1 with the lowest RMSE. However, the average volume of predicted reserves is also lowest in Region 1."
   ]
  },
  {
   "cell_type": "markdown",
   "id": "a219e8e8",
   "metadata": {},
   "source": [
    "## Prepare for profit calculation\n",
    "We will:\n",
    "\n",
    "1. Store all key values for calculations in separate variables.\n",
    "2. Calculate the volume of reserves sufficient for developing a new well without losses. Compare the obtained value with the average volume of reserves in each region.\n",
    "3. Provide the findings about the preparation for profit calculation step."
   ]
  },
  {
   "cell_type": "code",
   "execution_count": 17,
   "id": "791396c8",
   "metadata": {},
   "outputs": [
    {
     "name": "stdout",
     "output_type": "stream",
     "text": [
      "The volume of reserves sufficient for developing a new well without losses is: 111.11111111111111 thousand barrels.\n",
      "\n",
      "The average volume of reserves in Region 0 is: 92.59256778438038 thousand barrels.\n",
      "In Region 0, the average volume of reserves is less than the break-even volume.\n",
      "\n",
      "The average volume of reserves in Region 1 is: 68.728546895446 thousand barrels.\n",
      "In Region 1, the average volume of reserves is less than the break-even volume.\n",
      "\n",
      "The average volume of reserves in Region 2 is: 94.96504596800492 thousand barrels.\n",
      "In Region 2, the average volume of reserves is less than the break-even volume.\n"
     ]
    }
   ],
   "source": [
    "# Define the variables required for profit calculation\n",
    "budget = 100_000_000  # budget for development of 200 oil wells is 100 USD million\n",
    "revenue_per_unit = 4.5 * 1000  # One barrel of raw materials brings 4.5 USD of revenue. The revenue from one unit of product is 4,500 dollars (volume of reserves is in thousand barrels)\n",
    "wells_to_develop = 200  # The number of wells to be developed\n",
    "\n",
    "# Calculate the volume of reserves sufficient for developing a new well without losses\n",
    "break_even_volume = budget / (revenue_per_unit * wells_to_develop)\n",
    "\n",
    "# Print the break-even volume\n",
    "print(f\"The volume of reserves sufficient for developing a new well without losses is: {break_even_volume} thousand barrels.\")\n",
    "\n",
    "# Compare the obtained value with the average volume of reserves in each region\n",
    "average_volumes = [predictions_0.mean(), predictions_1.mean(), predictions_2.mean()]\n",
    "for i, avg_vol in enumerate(average_volumes, start=0):\n",
    "    print(f\"\\nThe average volume of reserves in Region {i} is: {avg_vol} thousand barrels.\")\n",
    "    if avg_vol > break_even_volume:\n",
    "        print(f\"In Region {i}, the average volume of reserves is greater than the break-even volume.\")\n",
    "    else:\n",
    "        print(f\"In Region {i}, the average volume of reserves is less than the break-even volume.\")\n"
   ]
  },
  {
   "cell_type": "markdown",
   "id": "19a88199",
   "metadata": {},
   "source": [
    "From the calculations, the volume of reserves sufficient for developing a new well without losses is approximately 111.11 thousand barrels.\n",
    "\n",
    "When we compare this value with the average volume of reserves in each region, we find that:\n",
    "\n",
    "- For Region 0, the average volume of reserves (approximately 92.59 thousand barrels) is less than the break-even volume.\n",
    "- For Region 1, the average volume of reserves (approximately 68.73 thousand barrels) is also less than the break-even volume.\n",
    "- For Region 2, the average volume of reserves (approximately 94.97 thousand barrels) is less than the break-even volume.\n",
    "\n",
    "This suggests that, on average, the oil wells in all three regions might not have sufficient reserves for developing a new well without losses, based on our break-even analysis.\n",
    "\n",
    "The next step is to write a function to calculate profit from a set of selected oil wells and model predictions."
   ]
  },
  {
   "cell_type": "markdown",
   "id": "21c20685",
   "metadata": {},
   "source": [
    "## Write a function to calculate profit from a set of selected oil wells and model predictions.\n",
    "\n",
    "We will:\n",
    "\n",
    "1. Pick the wells with the highest values of predictions.\n",
    "2. Summarize the target volume of reserves in accordance with these predictions.\n",
    "3. Suggest a region for oil wells' development, justify the choice, and calculate the profit for the obtained volume of reserves."
   ]
  },
  {
   "cell_type": "code",
   "execution_count": 24,
   "id": "ad7deec4",
   "metadata": {},
   "outputs": [
    {
     "name": "stdout",
     "output_type": "stream",
     "text": [
      "Profit for 200 wells in Region 0: $33208260.43\n",
      "Profit for 200 wells in Region 1: $24150866.97\n",
      "Profit for 200 wells in Region 2: $27103499.64\n"
     ]
    }
   ],
   "source": [
    "# Reset the indices of the targets and predictions\n",
    "targets_valid = [y_valid_0, y_valid_1, y_valid_2]\n",
    "predicted_valid = [predictions_0, predictions_1, predictions_2]\n",
    "for i in range(3):\n",
    "    targets_valid[i] = targets_valid[i].reset_index(drop=True)\n",
    "    predicted_valid[i] = pd.Series(predicted_valid[i]).reset_index(drop=True)\n",
    "    \n",
    "# Define a function to calculate profit from a set of selected oil wells and model predictions\n",
    "\n",
    "def calculate_profit(target, predictions, count):\n",
    "    # Sort the predictions and select the top ones\n",
    "    probs_sorted = pd.Series(predictions).sort_values(ascending=False)\n",
    "    selected = target[probs_sorted.index][:count]\n",
    "    \n",
    "    # Summarize the target volume of reserves in accordance with these predictions\n",
    "    product_sum = selected.sum()\n",
    "    \n",
    "    # Calculate the profit\n",
    "    profit = product_sum * revenue_per_unit - budget\n",
    "    \n",
    "    # Return the profit\n",
    "    return profit\n",
    "\n",
    "# Calculate the profit for 200 wells in each region\n",
    "profits = []\n",
    "for i, (target, predictions) in enumerate(zip(targets_valid, predicted_valid), start=0):\n",
    "    profit = calculate_profit(target, predictions, wells_to_develop)\n",
    "    profits.append(profit)\n",
    "    print(f\"Profit for 200 wells in Region {i}: ${profit:.2f}\")\n"
   ]
  },
  {
   "cell_type": "markdown",
   "id": "df81676c",
   "metadata": {},
   "source": [
    "Based on these calculations, Region 0 would yield the highest profit. However, as mentioned earlier, these are point estimates and do not account for uncertainty in the model predictions. To get a better sense of the risk and potential profit for each region, it would be useful to use a technique like bootstrapping to generate a distribution of possible outcomes. This can provide a more robust basis for decision-making.\n",
    "\n",
    "Let's proceed with the bootstrap analysis to estimate the profit distribution for each region, taking into account the risk of losses."
   ]
  },
  {
   "cell_type": "markdown",
   "id": "65feeaf7",
   "metadata": {},
   "source": [
    "## Bootstrap analysis\n",
    "To get a better sense of the risk and potential profit for each region, it would be useful to use a technique like bootstrapping to generate a distribution of possible outcomes. This can provide a more robust basis for decision-making. \n"
   ]
  },
  {
   "cell_type": "code",
   "execution_count": 26,
   "id": "7172751a",
   "metadata": {},
   "outputs": [
    {
     "data": {
      "text/plain": [
       "{0: {'lower': 129483.3113511391,\n",
       "  'upper': 12311636.057914983,\n",
       "  'mean': 6007352.442611653,\n",
       "  'loss_risk': 0.02,\n",
       "  'values': 0      9.886908e+06\n",
       "  1      5.363934e+06\n",
       "  2      6.336436e+06\n",
       "  3      5.896001e+06\n",
       "  4      2.719929e+06\n",
       "             ...     \n",
       "  995    5.566130e+06\n",
       "  996    9.280870e+06\n",
       "  997    1.030250e+07\n",
       "  998    5.354841e+06\n",
       "  999    5.015203e+06\n",
       "  Length: 1000, dtype: float64},\n",
       " 1: {'lower': 2064763.6125177094,\n",
       "  'upper': 11911976.84748842,\n",
       "  'mean': 6639589.952601906,\n",
       "  'loss_risk': 0.001,\n",
       "  'values': 0      5.419387e+06\n",
       "  1      2.008970e+06\n",
       "  2      1.295538e+06\n",
       "  3      5.862250e+06\n",
       "  4      5.512065e+06\n",
       "             ...     \n",
       "  995    5.805026e+06\n",
       "  996    6.053826e+06\n",
       "  997    5.447999e+06\n",
       "  998    1.218984e+07\n",
       "  999    3.971375e+06\n",
       "  Length: 1000, dtype: float64},\n",
       " 2: {'lower': 17349.29531177253,\n",
       "  'upper': 12462179.601652356,\n",
       "  'mean': 5973810.479005231,\n",
       "  'loss_risk': 0.025,\n",
       "  'values': 0      8.627840e+06\n",
       "  1      7.651569e+06\n",
       "  2      3.418420e+06\n",
       "  3      6.876462e+06\n",
       "  4      6.528601e+06\n",
       "             ...     \n",
       "  995    5.793411e+06\n",
       "  996    3.741776e+06\n",
       "  997    5.385141e+06\n",
       "  998    9.475967e+06\n",
       "  999    6.003961e+05\n",
       "  Length: 1000, dtype: float64}}"
      ]
     },
     "execution_count": 26,
     "metadata": {},
     "output_type": "execute_result"
    }
   ],
   "source": [
    "# Define the bootstrap function\n",
    "def bootstrap(target, probs, state, iterations=1000, n_samples=500, n_best=200):\n",
    "    values = []\n",
    "    losses = 0\n",
    "    for i in range(iterations):\n",
    "        target_subsample = target.sample(n=n_samples, replace=True, random_state=state)\n",
    "        probs_subsample = probs[target_subsample.index]\n",
    "        chosen_wells = probs_subsample.sort_values(ascending=False)[:n_best]\n",
    "        chosen_target = target_subsample[chosen_wells.index]\n",
    "        revenue = chosen_target.sum() * revenue_per_unit\n",
    "        cost = budget\n",
    "        profit = revenue - cost\n",
    "        values.append(profit)\n",
    "        if profit < 0:\n",
    "            losses += 1\n",
    "    values = pd.Series(values)\n",
    "    lower = values.quantile(0.025)\n",
    "    upper = values.quantile(0.975)\n",
    "    loss_risk = losses / iterations\n",
    "    return lower, upper, values.mean(), loss_risk, values\n",
    "\n",
    "# Initialize the random state\n",
    "state = RandomState(12345)\n",
    "\n",
    "# Bootstrap each region\n",
    "bootstrap_results = {}\n",
    "for i in range(3):\n",
    "    lower, upper, mean, loss_risk, values = bootstrap(\n",
    "        targets_valid[i], predicted_valid[i], state\n",
    "    )\n",
    "    bootstrap_results[i] = {\n",
    "        \"lower\": lower,\n",
    "        \"upper\": upper,\n",
    "        \"mean\": mean,\n",
    "        \"loss_risk\": loss_risk,\n",
    "        \"values\": values,\n",
    "    }\n",
    "\n",
    "bootstrap_results"
   ]
  },
  {
   "cell_type": "markdown",
   "id": "0274c92b",
   "metadata": {},
   "source": [
    "Here are the results of the bootstrap analysis:\n",
    "\n",
    "**Region 0:**\n",
    "- Lower limit of the 95% confidence interval for profit: \\$129,483.31\n",
    "- Upper limit of the 95% confidence interval for profit: \\$12,311,636.06\n",
    "- Average profit: \\$6,007,352.44\n",
    "- Risk of losses: 2%\n",
    "\n",
    "**Region 1:**\n",
    "- Lower limit of the 95% confidence interval for profit: \\$2,064,763.61\n",
    "- Upper limit of the 95% confidence interval for profit: \\$11,911,976.85\n",
    "- Average profit: \\$6,639,589.95\n",
    "- Risk of losses: 0.1%\n",
    "\n",
    "**Region 2:**\n",
    "- Lower limit of the 95% confidence interval for profit: \\$17,349.30\n",
    "- Upper limit of the 95% confidence interval for profit: \\$12,462,179.60\n",
    "- Average profit: \\$5,973,810.48\n",
    "- Risk of losses: 2.5%\n",
    "\n",
    "As per the business condition, we should only keep the regions with the risk of losses lower than 2.5%. From the ones that fit the criteria, the region with the highest average profit should be selected.\n",
    "\n",
    "Thus, based on these results, Region 1 would be the best choice for oil well development. It has the lowest risk of losses at 0.1% and a high average profit at \\$6,639,589.95. It also falls within the 95% confidence interval for profit, indicating that we can be 95% confident that the true profit from oil well development in this region would fall within this range."
   ]
  },
  {
   "cell_type": "markdown",
   "id": "7abd735d",
   "metadata": {},
   "source": [
    "Before wrapping up, it would be good to visualize the profit distribution of the bootstrap samples for each region. This will provide a more intuitive understanding of the range of possible profits and the associated risks. Let's proceed with that."
   ]
  },
  {
   "cell_type": "code",
   "execution_count": 27,
   "id": "63a31fb6",
   "metadata": {},
   "outputs": [
    {
     "data": {
      "image/png": "[encoded data removed]",
      "text/plain": [
       "<Figure size 1500x500 with 3 Axes>"
      ]
     },
     "metadata": {},
     "output_type": "display_data"
    }
   ],
   "source": [
    "import matplotlib.pyplot as plt\n",
    "\n",
    "# Create a figure and a set of subplots\n",
    "fig, axs = plt.subplots(1, 3, figsize=(15, 5))\n",
    "\n",
    "# Set the titles for the subplots\n",
    "axs[0].set_title('Region 0')\n",
    "axs[1].set_title('Region 1')\n",
    "axs[2].set_title('Region 2')\n",
    "\n",
    "# Plot the profit distribution for each region\n",
    "for i, ax in enumerate(axs.flat):\n",
    "    ax.hist(bootstrap_results[i][\"values\"], bins=30, alpha=0.5, color='blue')\n",
    "    ax.axvline(bootstrap_results[i][\"lower\"], color='red', linestyle='dashed', linewidth=1)\n",
    "    ax.axvline(bootstrap_results[i][\"upper\"], color='red', linestyle='dashed', linewidth=1)\n",
    "    ax.axvline(bootstrap_results[i][\"mean\"], color='green', linestyle='solid', linewidth=2)\n",
    "    ax.set_xlabel('Profit')\n",
    "    ax.set_ylabel('Frequency')\n",
    "\n",
    "# Add a legend\n",
    "plt.legend(['Lower 95% Confidence Interval', 'Upper 95% Confidence Interval', 'Mean'])\n",
    "\n",
    "# Adjust the space between the subplots\n",
    "plt.tight_layout()\n",
    "\n",
    "# Show the plot\n",
    "plt.show()\n"
   ]
  },
  {
   "cell_type": "markdown",
   "id": "3359f544",
   "metadata": {},
   "source": [
    "These histograms show the distribution of profit from 1000 bootstrap samples for each region. The dashed red lines represent the lower and upper limits of the 95% confidence interval, and the solid green line represents the mean profit.\n",
    "\n",
    "* For Region 0, the profit has a broad distribution, which implies high variance and hence higher risk. The mean profit is also lower compared to the other regions.\n",
    "* For Region 1, the profit distribution is narrower, implying lower variance and hence lower risk. It also has the highest mean profit, indicating the highest expected return.\n",
    "* For Region 2, the profit distribution is quite similar to Region 0, but with a slightly lower mean profit.\n",
    "\n",
    "As per the business requirement, we should only keep the regions with the risk of losses lower than 2.5%. From the ones that fit the criteria, the region with the highest average profit should be selected. Hence, based on these results, we reaffirm that Region 1 would be the best choice for oil well development.\n",
    "\n"
   ]
  },
  {
   "cell_type": "markdown",
   "id": "b3744d77",
   "metadata": {},
   "source": [
    "## Conclusion\n",
    "\n",
    "In this project, we analyzed oil well data from three regions to identify the best region for developing new wells. We followed the following steps:\n",
    "\n",
    "**Data Preprocessing:** We loaded the data for the three regions and checked for any inconsistencies. The datasets were found to be clean without any missing values or duplicates.\n",
    "\n",
    "**Model Training and Prediction:** We split the data into training and validation sets, and trained a linear regression model for each region. We then made predictions for the validation set.\n",
    "\n",
    "**Profit Calculation:** We calculated the volume of reserves sufficient for developing a new well without losses. We then calculated the profit for 200 wells in each region.\n",
    "\n",
    "**Bootstrap Analysis:** We used the bootstrap technique to estimate the profit distribution for each region and calculate the risk of losses.\n",
    "\n",
    "Based on our analysis, we found that Region 1 is the best region for developing new oil wells. This region has the highest average profit and the lowest risk of losses, meeting the business objective of minimizing risk and maximizing profit.\n",
    "\n",
    "However, it's important to note that these findings are based on model predictions, which are not 100% accurate. There are uncertainties in the model predictions, and therefore in the calculated profits and estimated risks. To get a more accurate estimation of the profits and risks, we could use more advanced modeling techniques, consider more features (if available), or collect more data.\n",
    "\n",
    "Despite these limitations, our analysis provides a useful guide for decision-making. The approach we used here—combining machine learning with bootstrap analysis—can be a powerful tool for assessing the potential return and risk of different investment opportunities.\n"
   ]
  },
  {
   "cell_type": "code",
   "execution_count": null,
   "id": "caeb8172",
   "metadata": {},
   "outputs": [],
   "source": []
  }
 ],
 "metadata": {
  "kernelspec": {
   "display_name": "Python 3 (ipykernel)",
   "language": "python",
   "name": "python3"
  },
  "language_info": {
   "codemirror_mode": {
    "name": "ipython",
    "version": 3
   },
   "file_extension": ".py",
   "mimetype": "text/x-python",
   "name": "python",
   "nbconvert_exporter": "python",
   "pygments_lexer": "ipython3",
   "version": "3.10.9"
  }
 },
 "nbformat": 4,
 "nbformat_minor": 5
}
